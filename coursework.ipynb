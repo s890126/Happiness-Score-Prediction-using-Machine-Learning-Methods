{
 "cells": [
  {
   "cell_type": "markdown",
   "id": "3903920c",
   "metadata": {},
   "source": [
    "# Read the data\n",
    "There are two data sets from the years 2018 and 2019."
   ]
  },
  {
   "cell_type": "code",
   "execution_count": 20,
   "id": "1b9e4f03",
   "metadata": {},
   "outputs": [
    {
     "name": "stdout",
     "output_type": "stream",
     "text": [
      "(156, 9) (156, 9)\n"
     ]
    }
   ],
   "source": [
    "import pandas as pd\n",
    "\n",
    "# Load the data\n",
    "data_2018 = pd.read_csv('2018.csv')\n",
    "data_2019 = pd.read_csv('2019.csv')\n",
    "\n",
    "# Print the shape of both data sets\n",
    "print(data_2018.shape, data_2019.shape)"
   ]
  },
  {
   "cell_type": "markdown",
   "id": "ab7afd0b",
   "metadata": {},
   "source": [
    "# Combine the 2018 and 2019 data sets into one CSV file\n",
    "Since the two data sets have the same shape, we can combine them directly."
   ]
  },
  {
   "cell_type": "code",
   "execution_count": 21,
   "id": "4e1f95bd",
   "metadata": {},
   "outputs": [
    {
     "data": {
      "text/html": [
       "<div>\n",
       "<style scoped>\n",
       "    .dataframe tbody tr th:only-of-type {\n",
       "        vertical-align: middle;\n",
       "    }\n",
       "\n",
       "    .dataframe tbody tr th {\n",
       "        vertical-align: top;\n",
       "    }\n",
       "\n",
       "    .dataframe thead th {\n",
       "        text-align: right;\n",
       "    }\n",
       "</style>\n",
       "<table border=\"1\" class=\"dataframe\">\n",
       "  <thead>\n",
       "    <tr style=\"text-align: right;\">\n",
       "      <th></th>\n",
       "      <th>Overall rank</th>\n",
       "      <th>Country or region</th>\n",
       "      <th>Score</th>\n",
       "      <th>GDP per capita</th>\n",
       "      <th>Social support</th>\n",
       "      <th>Healthy life expectancy</th>\n",
       "      <th>Freedom to make life choices</th>\n",
       "      <th>Generosity</th>\n",
       "      <th>Perceptions of corruption</th>\n",
       "    </tr>\n",
       "  </thead>\n",
       "  <tbody>\n",
       "    <tr>\n",
       "      <th>0</th>\n",
       "      <td>1</td>\n",
       "      <td>Finland</td>\n",
       "      <td>7.632</td>\n",
       "      <td>1.305</td>\n",
       "      <td>1.592</td>\n",
       "      <td>0.874</td>\n",
       "      <td>0.681</td>\n",
       "      <td>0.202</td>\n",
       "      <td>0.393</td>\n",
       "    </tr>\n",
       "    <tr>\n",
       "      <th>1</th>\n",
       "      <td>2</td>\n",
       "      <td>Norway</td>\n",
       "      <td>7.594</td>\n",
       "      <td>1.456</td>\n",
       "      <td>1.582</td>\n",
       "      <td>0.861</td>\n",
       "      <td>0.686</td>\n",
       "      <td>0.286</td>\n",
       "      <td>0.340</td>\n",
       "    </tr>\n",
       "    <tr>\n",
       "      <th>2</th>\n",
       "      <td>3</td>\n",
       "      <td>Denmark</td>\n",
       "      <td>7.555</td>\n",
       "      <td>1.351</td>\n",
       "      <td>1.590</td>\n",
       "      <td>0.868</td>\n",
       "      <td>0.683</td>\n",
       "      <td>0.284</td>\n",
       "      <td>0.408</td>\n",
       "    </tr>\n",
       "    <tr>\n",
       "      <th>3</th>\n",
       "      <td>4</td>\n",
       "      <td>Iceland</td>\n",
       "      <td>7.495</td>\n",
       "      <td>1.343</td>\n",
       "      <td>1.644</td>\n",
       "      <td>0.914</td>\n",
       "      <td>0.677</td>\n",
       "      <td>0.353</td>\n",
       "      <td>0.138</td>\n",
       "    </tr>\n",
       "    <tr>\n",
       "      <th>4</th>\n",
       "      <td>5</td>\n",
       "      <td>Switzerland</td>\n",
       "      <td>7.487</td>\n",
       "      <td>1.420</td>\n",
       "      <td>1.549</td>\n",
       "      <td>0.927</td>\n",
       "      <td>0.660</td>\n",
       "      <td>0.256</td>\n",
       "      <td>0.357</td>\n",
       "    </tr>\n",
       "    <tr>\n",
       "      <th>...</th>\n",
       "      <td>...</td>\n",
       "      <td>...</td>\n",
       "      <td>...</td>\n",
       "      <td>...</td>\n",
       "      <td>...</td>\n",
       "      <td>...</td>\n",
       "      <td>...</td>\n",
       "      <td>...</td>\n",
       "      <td>...</td>\n",
       "    </tr>\n",
       "    <tr>\n",
       "      <th>307</th>\n",
       "      <td>152</td>\n",
       "      <td>Rwanda</td>\n",
       "      <td>3.334</td>\n",
       "      <td>0.359</td>\n",
       "      <td>0.711</td>\n",
       "      <td>0.614</td>\n",
       "      <td>0.555</td>\n",
       "      <td>0.217</td>\n",
       "      <td>0.411</td>\n",
       "    </tr>\n",
       "    <tr>\n",
       "      <th>308</th>\n",
       "      <td>153</td>\n",
       "      <td>Tanzania</td>\n",
       "      <td>3.231</td>\n",
       "      <td>0.476</td>\n",
       "      <td>0.885</td>\n",
       "      <td>0.499</td>\n",
       "      <td>0.417</td>\n",
       "      <td>0.276</td>\n",
       "      <td>0.147</td>\n",
       "    </tr>\n",
       "    <tr>\n",
       "      <th>309</th>\n",
       "      <td>154</td>\n",
       "      <td>Afghanistan</td>\n",
       "      <td>3.203</td>\n",
       "      <td>0.350</td>\n",
       "      <td>0.517</td>\n",
       "      <td>0.361</td>\n",
       "      <td>0.000</td>\n",
       "      <td>0.158</td>\n",
       "      <td>0.025</td>\n",
       "    </tr>\n",
       "    <tr>\n",
       "      <th>310</th>\n",
       "      <td>155</td>\n",
       "      <td>Central African Republic</td>\n",
       "      <td>3.083</td>\n",
       "      <td>0.026</td>\n",
       "      <td>0.000</td>\n",
       "      <td>0.105</td>\n",
       "      <td>0.225</td>\n",
       "      <td>0.235</td>\n",
       "      <td>0.035</td>\n",
       "    </tr>\n",
       "    <tr>\n",
       "      <th>311</th>\n",
       "      <td>156</td>\n",
       "      <td>South Sudan</td>\n",
       "      <td>2.853</td>\n",
       "      <td>0.306</td>\n",
       "      <td>0.575</td>\n",
       "      <td>0.295</td>\n",
       "      <td>0.010</td>\n",
       "      <td>0.202</td>\n",
       "      <td>0.091</td>\n",
       "    </tr>\n",
       "  </tbody>\n",
       "</table>\n",
       "<p>312 rows × 9 columns</p>\n",
       "</div>"
      ],
      "text/plain": [
       "     Overall rank         Country or region  Score  GDP per capita  \\\n",
       "0               1                   Finland  7.632           1.305   \n",
       "1               2                    Norway  7.594           1.456   \n",
       "2               3                   Denmark  7.555           1.351   \n",
       "3               4                   Iceland  7.495           1.343   \n",
       "4               5               Switzerland  7.487           1.420   \n",
       "..            ...                       ...    ...             ...   \n",
       "307           152                    Rwanda  3.334           0.359   \n",
       "308           153                  Tanzania  3.231           0.476   \n",
       "309           154               Afghanistan  3.203           0.350   \n",
       "310           155  Central African Republic  3.083           0.026   \n",
       "311           156               South Sudan  2.853           0.306   \n",
       "\n",
       "     Social support  Healthy life expectancy  Freedom to make life choices  \\\n",
       "0             1.592                    0.874                         0.681   \n",
       "1             1.582                    0.861                         0.686   \n",
       "2             1.590                    0.868                         0.683   \n",
       "3             1.644                    0.914                         0.677   \n",
       "4             1.549                    0.927                         0.660   \n",
       "..              ...                      ...                           ...   \n",
       "307           0.711                    0.614                         0.555   \n",
       "308           0.885                    0.499                         0.417   \n",
       "309           0.517                    0.361                         0.000   \n",
       "310           0.000                    0.105                         0.225   \n",
       "311           0.575                    0.295                         0.010   \n",
       "\n",
       "     Generosity  Perceptions of corruption  \n",
       "0         0.202                      0.393  \n",
       "1         0.286                      0.340  \n",
       "2         0.284                      0.408  \n",
       "3         0.353                      0.138  \n",
       "4         0.256                      0.357  \n",
       "..          ...                        ...  \n",
       "307       0.217                      0.411  \n",
       "308       0.276                      0.147  \n",
       "309       0.158                      0.025  \n",
       "310       0.235                      0.035  \n",
       "311       0.202                      0.091  \n",
       "\n",
       "[312 rows x 9 columns]"
      ]
     },
     "execution_count": 21,
     "metadata": {},
     "output_type": "execute_result"
    }
   ],
   "source": [
    "# Combine the two data sets\n",
    "combined_data_set = pd.concat([data_2018, data_2019], ignore_index = True)\n",
    "\n",
    "# Save it to a new csv file\n",
    "combined_data_set.to_csv('combined_data.csv', index = False)\n",
    "combined_data_set"
   ]
  },
  {
   "cell_type": "markdown",
   "id": "61ebb72e",
   "metadata": {},
   "source": [
    "# Data Cleaning and Feature Selecting\n",
    "Check for redundant columns, missing values, and duplicates."
   ]
  },
  {
   "cell_type": "markdown",
   "id": "e377f1b2",
   "metadata": {},
   "source": [
    "1. Drop the column 'Overall rank' since it is directly derived from the 'Score' column, and it is not useful for predicting the happiness score.\n",
    "2. Drop the column 'Country or region' since it is not useful for our model."
   ]
  },
  {
   "cell_type": "code",
   "execution_count": 22,
   "id": "fd021e3c",
   "metadata": {},
   "outputs": [
    {
     "data": {
      "text/html": [
       "<div>\n",
       "<style scoped>\n",
       "    .dataframe tbody tr th:only-of-type {\n",
       "        vertical-align: middle;\n",
       "    }\n",
       "\n",
       "    .dataframe tbody tr th {\n",
       "        vertical-align: top;\n",
       "    }\n",
       "\n",
       "    .dataframe thead th {\n",
       "        text-align: right;\n",
       "    }\n",
       "</style>\n",
       "<table border=\"1\" class=\"dataframe\">\n",
       "  <thead>\n",
       "    <tr style=\"text-align: right;\">\n",
       "      <th></th>\n",
       "      <th>Score</th>\n",
       "      <th>GDP per capita</th>\n",
       "      <th>Social support</th>\n",
       "      <th>Healthy life expectancy</th>\n",
       "      <th>Freedom to make life choices</th>\n",
       "      <th>Generosity</th>\n",
       "      <th>Perceptions of corruption</th>\n",
       "    </tr>\n",
       "  </thead>\n",
       "  <tbody>\n",
       "    <tr>\n",
       "      <th>0</th>\n",
       "      <td>7.632</td>\n",
       "      <td>1.305</td>\n",
       "      <td>1.592</td>\n",
       "      <td>0.874</td>\n",
       "      <td>0.681</td>\n",
       "      <td>0.202</td>\n",
       "      <td>0.393</td>\n",
       "    </tr>\n",
       "    <tr>\n",
       "      <th>1</th>\n",
       "      <td>7.594</td>\n",
       "      <td>1.456</td>\n",
       "      <td>1.582</td>\n",
       "      <td>0.861</td>\n",
       "      <td>0.686</td>\n",
       "      <td>0.286</td>\n",
       "      <td>0.340</td>\n",
       "    </tr>\n",
       "    <tr>\n",
       "      <th>2</th>\n",
       "      <td>7.555</td>\n",
       "      <td>1.351</td>\n",
       "      <td>1.590</td>\n",
       "      <td>0.868</td>\n",
       "      <td>0.683</td>\n",
       "      <td>0.284</td>\n",
       "      <td>0.408</td>\n",
       "    </tr>\n",
       "    <tr>\n",
       "      <th>3</th>\n",
       "      <td>7.495</td>\n",
       "      <td>1.343</td>\n",
       "      <td>1.644</td>\n",
       "      <td>0.914</td>\n",
       "      <td>0.677</td>\n",
       "      <td>0.353</td>\n",
       "      <td>0.138</td>\n",
       "    </tr>\n",
       "    <tr>\n",
       "      <th>4</th>\n",
       "      <td>7.487</td>\n",
       "      <td>1.420</td>\n",
       "      <td>1.549</td>\n",
       "      <td>0.927</td>\n",
       "      <td>0.660</td>\n",
       "      <td>0.256</td>\n",
       "      <td>0.357</td>\n",
       "    </tr>\n",
       "    <tr>\n",
       "      <th>...</th>\n",
       "      <td>...</td>\n",
       "      <td>...</td>\n",
       "      <td>...</td>\n",
       "      <td>...</td>\n",
       "      <td>...</td>\n",
       "      <td>...</td>\n",
       "      <td>...</td>\n",
       "    </tr>\n",
       "    <tr>\n",
       "      <th>307</th>\n",
       "      <td>3.334</td>\n",
       "      <td>0.359</td>\n",
       "      <td>0.711</td>\n",
       "      <td>0.614</td>\n",
       "      <td>0.555</td>\n",
       "      <td>0.217</td>\n",
       "      <td>0.411</td>\n",
       "    </tr>\n",
       "    <tr>\n",
       "      <th>308</th>\n",
       "      <td>3.231</td>\n",
       "      <td>0.476</td>\n",
       "      <td>0.885</td>\n",
       "      <td>0.499</td>\n",
       "      <td>0.417</td>\n",
       "      <td>0.276</td>\n",
       "      <td>0.147</td>\n",
       "    </tr>\n",
       "    <tr>\n",
       "      <th>309</th>\n",
       "      <td>3.203</td>\n",
       "      <td>0.350</td>\n",
       "      <td>0.517</td>\n",
       "      <td>0.361</td>\n",
       "      <td>0.000</td>\n",
       "      <td>0.158</td>\n",
       "      <td>0.025</td>\n",
       "    </tr>\n",
       "    <tr>\n",
       "      <th>310</th>\n",
       "      <td>3.083</td>\n",
       "      <td>0.026</td>\n",
       "      <td>0.000</td>\n",
       "      <td>0.105</td>\n",
       "      <td>0.225</td>\n",
       "      <td>0.235</td>\n",
       "      <td>0.035</td>\n",
       "    </tr>\n",
       "    <tr>\n",
       "      <th>311</th>\n",
       "      <td>2.853</td>\n",
       "      <td>0.306</td>\n",
       "      <td>0.575</td>\n",
       "      <td>0.295</td>\n",
       "      <td>0.010</td>\n",
       "      <td>0.202</td>\n",
       "      <td>0.091</td>\n",
       "    </tr>\n",
       "  </tbody>\n",
       "</table>\n",
       "<p>312 rows × 7 columns</p>\n",
       "</div>"
      ],
      "text/plain": [
       "     Score  GDP per capita  Social support  Healthy life expectancy  \\\n",
       "0    7.632           1.305           1.592                    0.874   \n",
       "1    7.594           1.456           1.582                    0.861   \n",
       "2    7.555           1.351           1.590                    0.868   \n",
       "3    7.495           1.343           1.644                    0.914   \n",
       "4    7.487           1.420           1.549                    0.927   \n",
       "..     ...             ...             ...                      ...   \n",
       "307  3.334           0.359           0.711                    0.614   \n",
       "308  3.231           0.476           0.885                    0.499   \n",
       "309  3.203           0.350           0.517                    0.361   \n",
       "310  3.083           0.026           0.000                    0.105   \n",
       "311  2.853           0.306           0.575                    0.295   \n",
       "\n",
       "     Freedom to make life choices  Generosity  Perceptions of corruption  \n",
       "0                           0.681       0.202                      0.393  \n",
       "1                           0.686       0.286                      0.340  \n",
       "2                           0.683       0.284                      0.408  \n",
       "3                           0.677       0.353                      0.138  \n",
       "4                           0.660       0.256                      0.357  \n",
       "..                            ...         ...                        ...  \n",
       "307                         0.555       0.217                      0.411  \n",
       "308                         0.417       0.276                      0.147  \n",
       "309                         0.000       0.158                      0.025  \n",
       "310                         0.225       0.235                      0.035  \n",
       "311                         0.010       0.202                      0.091  \n",
       "\n",
       "[312 rows x 7 columns]"
      ]
     },
     "execution_count": 22,
     "metadata": {},
     "output_type": "execute_result"
    }
   ],
   "source": [
    "# drop the columns\n",
    "combined_data_cleaned = combined_data_set.drop(columns = ['Overall rank', 'Country or region'])\n",
    "combined_data_cleaned"
   ]
  },
  {
   "attachments": {},
   "cell_type": "markdown",
   "id": "f5c0c0e3",
   "metadata": {},
   "source": [
    "3. Check the correlations between each column"
   ]
  },
  {
   "cell_type": "code",
   "execution_count": 35,
   "id": "f8295fe3",
   "metadata": {},
   "outputs": [
    {
     "data": {
      "image/png": "[encoded data removed]",
      "text/plain": [
       "<Figure size 1500x600 with 2 Axes>"
      ]
     },
     "metadata": {},
     "output_type": "display_data"
    }
   ],
   "source": [
    "# use seaborn to plot the heatmap of the correlations  with each other\n",
    "import seaborn as sns\n",
    "import matplotlib.pyplot as plt\n",
    "corr = combined_data_cleaned.corr()\n",
    "plt.figure(figsize = (15,6))\n",
    "sns.heatmap(corr, annot = True, cmap = \"Reds\")\n",
    "plt.show()"
   ]
  },
  {
   "cell_type": "markdown",
   "id": "dd34dbf9",
   "metadata": {},
   "source": [
    "4. Check for duplicates, if there is no duplicate, we do not need to drop anything"
   ]
  },
  {
   "cell_type": "code",
   "execution_count": 24,
   "id": "128294a0",
   "metadata": {},
   "outputs": [
    {
     "data": {
      "text/plain": [
       "0"
      ]
     },
     "execution_count": 24,
     "metadata": {},
     "output_type": "execute_result"
    }
   ],
   "source": [
    "# show how many duplicates there are\n",
    "duplicate_num = combined_data_cleaned.duplicated().sum()\n",
    "duplicate_num"
   ]
  },
  {
   "cell_type": "markdown",
   "id": "4c684142",
   "metadata": {},
   "source": [
    "5. Check for missing value"
   ]
  },
  {
   "cell_type": "code",
   "execution_count": 25,
   "id": "32e34517",
   "metadata": {},
   "outputs": [
    {
     "data": {
      "text/plain": [
       "Score                           0\n",
       "GDP per capita                  0\n",
       "Social support                  0\n",
       "Healthy life expectancy         0\n",
       "Freedom to make life choices    0\n",
       "Generosity                      0\n",
       "Perceptions of corruption       1\n",
       "dtype: int64"
      ]
     },
     "execution_count": 25,
     "metadata": {},
     "output_type": "execute_result"
    }
   ],
   "source": [
    "# show how many missing values there are\n",
    "missing = pd.isnull(combined_data_cleaned)\n",
    "missing.sum()"
   ]
  },
  {
   "cell_type": "markdown",
   "id": "c1152cf3",
   "metadata": {},
   "source": [
    "There is only one missing value which is not a big amount to affect the prediction and the analysis, so we can simply replace it with the mean or the median."
   ]
  },
  {
   "cell_type": "markdown",
   "id": "a562eec8",
   "metadata": {},
   "source": [
    "Calculate the mean and the median of the column 'Perceptions of corruption'. We will use the median because it seems like there is outliner in this column."
   ]
  },
  {
   "cell_type": "code",
   "execution_count": 26,
   "id": "b10d87ec",
   "metadata": {},
   "outputs": [
    {
     "name": "stdout",
     "output_type": "stream",
     "text": [
      "0.11129903536977494\n",
      "0.082\n"
     ]
    }
   ],
   "source": [
    "# Calculate the mean \n",
    "mean_poc = combined_data_cleaned['Perceptions of corruption'].mean()\n",
    "print(mean_poc)\n",
    "\n",
    "# Calculate the median\n",
    "median_poc = combined_data_cleaned['Perceptions of corruption'].median()\n",
    "print(median_poc)"
   ]
  },
  {
   "cell_type": "code",
   "execution_count": 27,
   "id": "71228ed7",
   "metadata": {},
   "outputs": [
    {
     "data": {
      "text/plain": [
       "Score                           0\n",
       "GDP per capita                  0\n",
       "Social support                  0\n",
       "Healthy life expectancy         0\n",
       "Freedom to make life choices    0\n",
       "Generosity                      0\n",
       "Perceptions of corruption       0\n",
       "dtype: int64"
      ]
     },
     "execution_count": 27,
     "metadata": {},
     "output_type": "execute_result"
    }
   ],
   "source": [
    "# replace the missing value with the median\n",
    "combined_data_cleaned['Perceptions of corruption'].fillna(median_poc, inplace = True)\n",
    "missing = pd.isnull(combined_data_cleaned)\n",
    "missing.sum()"
   ]
  },
  {
   "cell_type": "code",
   "execution_count": 28,
   "id": "c63b914f",
   "metadata": {},
   "outputs": [
    {
     "data": {
      "text/html": [
       "<div>\n",
       "<style scoped>\n",
       "    .dataframe tbody tr th:only-of-type {\n",
       "        vertical-align: middle;\n",
       "    }\n",
       "\n",
       "    .dataframe tbody tr th {\n",
       "        vertical-align: top;\n",
       "    }\n",
       "\n",
       "    .dataframe thead th {\n",
       "        text-align: right;\n",
       "    }\n",
       "</style>\n",
       "<table border=\"1\" class=\"dataframe\">\n",
       "  <thead>\n",
       "    <tr style=\"text-align: right;\">\n",
       "      <th></th>\n",
       "      <th>Score</th>\n",
       "      <th>GDP per capita</th>\n",
       "      <th>Social support</th>\n",
       "      <th>Healthy life expectancy</th>\n",
       "      <th>Freedom to make life choices</th>\n",
       "      <th>Generosity</th>\n",
       "      <th>Perceptions of corruption</th>\n",
       "    </tr>\n",
       "  </thead>\n",
       "  <tbody>\n",
       "    <tr>\n",
       "      <th>0</th>\n",
       "      <td>7.632</td>\n",
       "      <td>1.305</td>\n",
       "      <td>1.592</td>\n",
       "      <td>0.874</td>\n",
       "      <td>0.681</td>\n",
       "      <td>0.202</td>\n",
       "      <td>0.393</td>\n",
       "    </tr>\n",
       "    <tr>\n",
       "      <th>1</th>\n",
       "      <td>7.594</td>\n",
       "      <td>1.456</td>\n",
       "      <td>1.582</td>\n",
       "      <td>0.861</td>\n",
       "      <td>0.686</td>\n",
       "      <td>0.286</td>\n",
       "      <td>0.340</td>\n",
       "    </tr>\n",
       "    <tr>\n",
       "      <th>2</th>\n",
       "      <td>7.555</td>\n",
       "      <td>1.351</td>\n",
       "      <td>1.590</td>\n",
       "      <td>0.868</td>\n",
       "      <td>0.683</td>\n",
       "      <td>0.284</td>\n",
       "      <td>0.408</td>\n",
       "    </tr>\n",
       "    <tr>\n",
       "      <th>3</th>\n",
       "      <td>7.495</td>\n",
       "      <td>1.343</td>\n",
       "      <td>1.644</td>\n",
       "      <td>0.914</td>\n",
       "      <td>0.677</td>\n",
       "      <td>0.353</td>\n",
       "      <td>0.138</td>\n",
       "    </tr>\n",
       "    <tr>\n",
       "      <th>4</th>\n",
       "      <td>7.487</td>\n",
       "      <td>1.420</td>\n",
       "      <td>1.549</td>\n",
       "      <td>0.927</td>\n",
       "      <td>0.660</td>\n",
       "      <td>0.256</td>\n",
       "      <td>0.357</td>\n",
       "    </tr>\n",
       "    <tr>\n",
       "      <th>...</th>\n",
       "      <td>...</td>\n",
       "      <td>...</td>\n",
       "      <td>...</td>\n",
       "      <td>...</td>\n",
       "      <td>...</td>\n",
       "      <td>...</td>\n",
       "      <td>...</td>\n",
       "    </tr>\n",
       "    <tr>\n",
       "      <th>307</th>\n",
       "      <td>3.334</td>\n",
       "      <td>0.359</td>\n",
       "      <td>0.711</td>\n",
       "      <td>0.614</td>\n",
       "      <td>0.555</td>\n",
       "      <td>0.217</td>\n",
       "      <td>0.411</td>\n",
       "    </tr>\n",
       "    <tr>\n",
       "      <th>308</th>\n",
       "      <td>3.231</td>\n",
       "      <td>0.476</td>\n",
       "      <td>0.885</td>\n",
       "      <td>0.499</td>\n",
       "      <td>0.417</td>\n",
       "      <td>0.276</td>\n",
       "      <td>0.147</td>\n",
       "    </tr>\n",
       "    <tr>\n",
       "      <th>309</th>\n",
       "      <td>3.203</td>\n",
       "      <td>0.350</td>\n",
       "      <td>0.517</td>\n",
       "      <td>0.361</td>\n",
       "      <td>0.000</td>\n",
       "      <td>0.158</td>\n",
       "      <td>0.025</td>\n",
       "    </tr>\n",
       "    <tr>\n",
       "      <th>310</th>\n",
       "      <td>3.083</td>\n",
       "      <td>0.026</td>\n",
       "      <td>0.000</td>\n",
       "      <td>0.105</td>\n",
       "      <td>0.225</td>\n",
       "      <td>0.235</td>\n",
       "      <td>0.035</td>\n",
       "    </tr>\n",
       "    <tr>\n",
       "      <th>311</th>\n",
       "      <td>2.853</td>\n",
       "      <td>0.306</td>\n",
       "      <td>0.575</td>\n",
       "      <td>0.295</td>\n",
       "      <td>0.010</td>\n",
       "      <td>0.202</td>\n",
       "      <td>0.091</td>\n",
       "    </tr>\n",
       "  </tbody>\n",
       "</table>\n",
       "<p>312 rows × 7 columns</p>\n",
       "</div>"
      ],
      "text/plain": [
       "     Score  GDP per capita  Social support  Healthy life expectancy  \\\n",
       "0    7.632           1.305           1.592                    0.874   \n",
       "1    7.594           1.456           1.582                    0.861   \n",
       "2    7.555           1.351           1.590                    0.868   \n",
       "3    7.495           1.343           1.644                    0.914   \n",
       "4    7.487           1.420           1.549                    0.927   \n",
       "..     ...             ...             ...                      ...   \n",
       "307  3.334           0.359           0.711                    0.614   \n",
       "308  3.231           0.476           0.885                    0.499   \n",
       "309  3.203           0.350           0.517                    0.361   \n",
       "310  3.083           0.026           0.000                    0.105   \n",
       "311  2.853           0.306           0.575                    0.295   \n",
       "\n",
       "     Freedom to make life choices  Generosity  Perceptions of corruption  \n",
       "0                           0.681       0.202                      0.393  \n",
       "1                           0.686       0.286                      0.340  \n",
       "2                           0.683       0.284                      0.408  \n",
       "3                           0.677       0.353                      0.138  \n",
       "4                           0.660       0.256                      0.357  \n",
       "..                            ...         ...                        ...  \n",
       "307                         0.555       0.217                      0.411  \n",
       "308                         0.417       0.276                      0.147  \n",
       "309                         0.000       0.158                      0.025  \n",
       "310                         0.225       0.235                      0.035  \n",
       "311                         0.010       0.202                      0.091  \n",
       "\n",
       "[312 rows x 7 columns]"
      ]
     },
     "execution_count": 28,
     "metadata": {},
     "output_type": "execute_result"
    }
   ],
   "source": [
    "combined_data_cleaned"
   ]
  },
  {
   "cell_type": "code",
   "execution_count": 29,
   "id": "14366ed6",
   "metadata": {},
   "outputs": [
    {
     "data": {
      "image/png": "[encoded data removed]",
      "text/plain": [
       "<Figure size 640x480 with 1 Axes>"
      ]
     },
     "metadata": {},
     "output_type": "display_data"
    }
   ],
   "source": [
    "# Use Q-Q plot to display the data distribution for happiness score\n",
    "import scipy.stats as stats\n",
    "import matplotlib.pyplot as plt\n",
    "stats.probplot(combined_data_cleaned['Score'], dist = \"norm\", plot = plt)\n",
    "plt.title('Q-Q Plot for Score')\n",
    "plt.show()"
   ]
  },
  {
   "cell_type": "markdown",
   "id": "6de8f73a",
   "metadata": {},
   "source": [
    "# Cross Validation for Linear Regression"
   ]
  },
  {
   "cell_type": "code",
   "execution_count": 30,
   "id": "23511b7d",
   "metadata": {
    "scrolled": true
   },
   "outputs": [
    {
     "name": "stdout",
     "output_type": "stream",
     "text": [
      "Cross Validation Accuracy: 0.7656162571918175\n",
      "Cross Validation MSE: 0.297824974816039\n"
     ]
    }
   ],
   "source": [
    "from sklearn.model_selection import KFold\n",
    "from sklearn.metrics import mean_squared_error\n",
    "from sklearn import linear_model\n",
    "from sklearn.model_selection import train_test_split\n",
    "from sklearn.preprocessing import StandardScaler\n",
    "\n",
    "scaler = StandardScaler()\n",
    "\n",
    "linreg = linear_model.LinearRegression() \n",
    "\n",
    "# X is the columns of features and y is the column of happiness score\n",
    "X = combined_data_cleaned.drop(columns = ['Score'])\n",
    "y = combined_data_cleaned['Score']\n",
    "\n",
    "# a list to store mse scores\n",
    "mse_scores = []\n",
    "\n",
    "# split the dataset into 70% training and 30% testing with a random_state to keep the consistency\n",
    "X_train, X_test, y_train, y_test = train_test_split(X, y, test_size = 0.3, random_state = 0)\n",
    "\n",
    "# a list to store accuracies\n",
    "accuracy = []\n",
    "\n",
    "# five-fold cross validation\n",
    "kf = KFold(n_splits = 5, random_state = 0, shuffle = True)\n",
    "\n",
    "# standardise the data and perform cross validation and caluculate the mse and accuracy\n",
    "for train_index, val_index in kf.split(X_train):\n",
    "    X_train_fold, X_val_fold = X_train.iloc[train_index], X_train.iloc[val_index]\n",
    "    y_train_fold, y_val_fold = y_train.iloc[train_index], y_train.iloc[val_index]\n",
    "    \n",
    "    X_train_fold_scaled = scaler.fit_transform(X_train_fold)\n",
    "    X_val_fold_scaled = scaler.transform(X_val_fold)\n",
    "    \n",
    "    linreg.fit(X_train_fold_scaled, y_train_fold)\n",
    "    y_pred = linreg.predict(X_val_fold_scaled)\n",
    "    mse = mean_squared_error(y_val_fold, y_pred)\n",
    "    mse_scores.append(mse)\n",
    "    accuracy.append(linreg.score(X_val_fold_scaled, y_val_fold))\n",
    "\n",
    "# display the average mse and average accuracy\n",
    "print(f\"Cross Validation Accuracy: {sum(accuracy) / len(accuracy)}\")  \n",
    "print(f\"Cross Validation MSE: {sum(mse_scores) / len(mse_scores)}\")"
   ]
  },
  {
   "cell_type": "markdown",
   "id": "b9ca12dd",
   "metadata": {},
   "source": [
    "# Linear Regression Training and Testing"
   ]
  },
  {
   "cell_type": "code",
   "execution_count": 31,
   "id": "8585a05f",
   "metadata": {},
   "outputs": [
    {
     "name": "stdout",
     "output_type": "stream",
     "text": [
      "Training Accuracy: 0.7822723870081627\n",
      "Testing Accuracy: 0.7752867193989467\n",
      "training MSE:, 0.27426684897295855\n",
      "testing MSE:, 0.26560710288070793\n",
      "[0.3853215  0.30077019 0.25785329 0.17945498 0.04708411 0.11649377]\n"
     ]
    }
   ],
   "source": [
    "scaler = StandardScaler()\n",
    "linreg = linear_model.LinearRegression() \n",
    "\n",
    "# X is the columns of features and y is the column of happiness score\n",
    "X = combined_data_cleaned.drop(columns = ['Score'])\n",
    "y = combined_data_cleaned['Score']\n",
    "\n",
    "# split the dataset into 70% training and 30% testing with a random_state to keep the consistency\n",
    "X_train, X_test, y_train, y_test = train_test_split(X, y, test_size = 0.3, random_state = 0)\n",
    "\n",
    "# standardise the data\n",
    "X_train_scaled = scaler.fit_transform(X_train)\n",
    "X_test_scaled = scaler.transform(X_test)\n",
    "\n",
    "# train the linear regression model\n",
    "model = linreg.fit(X_train_scaled, y_train)\n",
    "\n",
    "y_train_pred = linreg.predict(X_train_scaled)\n",
    "y_test_pred = linreg.predict(X_test_scaled)\n",
    "\n",
    "# show the scores and mse\n",
    "print(f\"Training Accuracy: {linreg.score(X_train_scaled, y_train)}\")\n",
    "print(f\"Testing Accuracy: {linreg.score(X_test_scaled, y_test)}\")\n",
    "print(f\"training MSE:, {mean_squared_error(y_train, y_train_pred)}\")\n",
    "print(f\"testing MSE:, {mean_squared_error(y_test, y_test_pred)}\")\n",
    "print(linreg.coef_)"
   ]
  },
  {
   "cell_type": "markdown",
   "id": "8950c4be",
   "metadata": {},
   "source": [
    "# SVR linear kernel Training and Testing"
   ]
  },
  {
   "cell_type": "code",
   "execution_count": 32,
   "id": "591b9713",
   "metadata": {},
   "outputs": [
    {
     "name": "stdout",
     "output_type": "stream",
     "text": [
      "Testing Accuracy: 0.7625063549063007\n",
      "Training Accuracy: 0.7762364630693727\n",
      "testing MSE: 0.28071326651096395\n",
      "training MSE: 0.28187017413959436\n"
     ]
    }
   ],
   "source": [
    "from sklearn.svm import SVR\n",
    "scaler = StandardScaler()\n",
    "\n",
    "# X is the columns of features and y is the column of happiness score\n",
    "X = combined_data_cleaned.drop(columns = ['Score'])\n",
    "y = combined_data_cleaned['Score']\n",
    "\n",
    "# split the dataset into 70% training and 30% testing with a random_state to keep the consistency\n",
    "X_train, X_test, y_train, y_test = train_test_split(X, y, test_size = 0.3, random_state = 0)\n",
    "\n",
    "# standardise the data\n",
    "X_train_scaled = scaler.fit_transform(X_train)\n",
    "X_test_scaled = scaler.transform(X_test)\n",
    "\n",
    "# use the linear kernel\n",
    "svr = SVR(kernel = 'linear')\n",
    "\n",
    "# train the SVR model\n",
    "svr.fit(X_train_scaled, y_train)\n",
    "y_train_pred = svr.predict(X_train_scaled)\n",
    "y_test_pred = svr.predict(X_test_scaled)\n",
    "\n",
    "# show the scores and mse\n",
    "print(f\"Testing Accuracy: {svr.score(X_test_scaled, y_test)}\")\n",
    "print(f\"Training Accuracy: {svr.score(X_train_scaled, y_train)}\")\n",
    "print(\"testing MSE:\", mean_squared_error(y_test, y_test_pred))\n",
    "print(\"training MSE:\", mean_squared_error(y_train, y_train_pred))"
   ]
  },
  {
   "cell_type": "markdown",
   "id": "f0e3c589",
   "metadata": {},
   "source": [
    "# Cross Validation for SVR"
   ]
  },
  {
   "cell_type": "code",
   "execution_count": 33,
   "id": "bce26e71",
   "metadata": {},
   "outputs": [
    {
     "name": "stdout",
     "output_type": "stream",
     "text": [
      "Cross Validation Accuracy: 0.7889108690067959\n",
      "Cross Validation MSE: 0.2737446817472427\n"
     ]
    }
   ],
   "source": [
    "# X is the columns of features and y is the column of happiness score\n",
    "X = combined_data_cleaned.drop(columns = ['Score'])\n",
    "\n",
    "y = combined_data_cleaned['Score']\n",
    "\n",
    "mse_scores = []\n",
    "\n",
    "# split the dataset into 70% training and 30% testing with a random_state to keep the consistency\n",
    "X_train, X_test, y_train, y_test = train_test_split(X, y, test_size = 0.3, random_state = 0)\n",
    "\n",
    "scaler = StandardScaler()\n",
    "# use rbf kernel\n",
    "svr = SVR(kernel = 'rbf')\n",
    "\n",
    "# a list to store accuracies\n",
    "accuracy = []\n",
    "\n",
    "# five-fold cross validation\n",
    "kf = KFold(n_splits = 5, random_state = 0, shuffle = True)\n",
    "\n",
    "# standardise the data and perform cross validation and caluculate the mse and accuracy\n",
    "for train_index, val_index in kf.split(X_train):\n",
    "    X_train_fold, X_val_fold = X_train.iloc[train_index], X_train.iloc[val_index]\n",
    "    y_train_fold, y_val_fold = y_train.iloc[train_index], y_train.iloc[val_index]\n",
    "    \n",
    "    X_train_fold_scaled = scaler.fit_transform(X_train_fold)\n",
    "    X_val_fold_scaled = scaler.transform(X_val_fold)\n",
    "    \n",
    "    svr.fit(X_train_fold_scaled, y_train_fold)\n",
    "    y_pred = svr.predict(X_val_fold_scaled)\n",
    "    mse = mean_squared_error(y_val_fold, y_pred)\n",
    "    mse_scores.append(mse)\n",
    "    accuracy.append(svr.score(X_val_fold_scaled, y_val_fold))\n",
    "\n",
    "# display the average mse and average accuracy\n",
    "print(f\"Cross Validation Accuracy: {sum(accuracy) / len(accuracy)}\")  \n",
    "print(f\"Cross Validation MSE: {sum(mse_scores) / len(mse_scores)}\")"
   ]
  },
  {
   "cell_type": "markdown",
   "id": "9dd63acc",
   "metadata": {},
   "source": [
    "# SVR rbf kernel Training and Testing"
   ]
  },
  {
   "cell_type": "code",
   "execution_count": 34,
   "id": "dba652d5",
   "metadata": {},
   "outputs": [
    {
     "name": "stdout",
     "output_type": "stream",
     "text": [
      "Testing Accuracy: 0.8463276224891828\n",
      "Training Accuracy: 0.8755698586447325\n",
      "testing MSE: 0.18163801834170407\n",
      "training MSE: 0.15674200583849918\n"
     ]
    }
   ],
   "source": [
    "scaler = StandardScaler()\n",
    "\n",
    "# X is the columns of features and y is the column of happiness score\n",
    "X = combined_data_cleaned.drop(columns = ['Score'])\n",
    "\n",
    "y = combined_data_cleaned['Score']\n",
    "\n",
    "# split the dataset into 70% training and 30% testing with a random_state to keep the consistency\n",
    "X_train, X_test, y_train, y_test = train_test_split(X, y, test_size = 0.3, random_state = 0)\n",
    "\n",
    "# standardise the data\n",
    "X_train_scaled = scaler.fit_transform(X_train)\n",
    "X_test_scaled = scaler.transform(X_test)\n",
    "\n",
    "# use the rbf kernel\n",
    "svr = SVR(kernel = 'rbf')\n",
    "\n",
    "# train the SVR model\n",
    "svr.fit(X_train_scaled, y_train)\n",
    "y_train_pred = svr.predict(X_train_scaled)\n",
    "y_test_pred = svr.predict(X_test_scaled)\n",
    "\n",
    "# show the scores and mse\n",
    "print(f\"Testing Accuracy: {svr.score(X_test_scaled, y_test)}\")\n",
    "print(f\"Training Accuracy: {svr.score(X_train_scaled, y_train)}\")\n",
    "print(\"testing MSE:\", mean_squared_error(y_test, y_test_pred))\n",
    "print(\"training MSE:\", mean_squared_error(y_train, y_train_pred))"
   ]
  }
 ],
 "metadata": {
  "kernelspec": {
   "display_name": "Python 3 (ipykernel)",
   "language": "python",
   "name": "python3"
  },
  "language_info": {
   "codemirror_mode": {
    "name": "ipython",
    "version": 3
   },
   "file_extension": ".py",
   "mimetype": "text/x-python",
   "name": "python",
   "nbconvert_exporter": "python",
   "pygments_lexer": "ipython3",
   "version": "3.11.5"
  }
 },
 "nbformat": 4,
 "nbformat_minor": 5
}
